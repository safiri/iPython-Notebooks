{
 "metadata": {
  "name": "",
  "signature": "sha256:118c42086005ec076f11c0831d20b24ee70969d67edb3abfdd44568abfa0eebb"
 },
 "nbformat": 3,
 "nbformat_minor": 0,
 "worksheets": [
  {
   "cells": [
    {
     "cell_type": "code",
     "collapsed": false,
     "input": [
      "%install_ext https://raw.github.com/dragly/cppmagic/master/cppmagic.py"
     ],
     "language": "python",
     "metadata": {},
     "outputs": [
      {
       "output_type": "stream",
       "stream": "stdout",
       "text": [
        "Installed cppmagic.py. To use it, type:\n",
        "  %load_ext cppmagic\n"
       ]
      }
     ],
     "prompt_number": 1
    },
    {
     "cell_type": "code",
     "collapsed": false,
     "input": [
      "%load_ext cppmagic"
     ],
     "language": "python",
     "metadata": {},
     "outputs": [],
     "prompt_number": 2
    },
    {
     "cell_type": "code",
     "collapsed": false,
     "input": [
      "%%cpp\n",
      "#include <iostream>\n",
      "using namespace std;\n",
      "\n",
      "class MyClass {\n",
      "public:\n",
      "    int a;\n",
      "    MyClass() {\n",
      "        a = 10;\n",
      "    }\n",
      "};\n",
      "\n",
      "int main() {\n",
      "    MyClass B;\n",
      "    cout << B.a << endl;\n",
      "    return 0;\n",
      "}"
     ],
     "language": "python",
     "metadata": {},
     "outputs": [
      {
       "output_type": "stream",
       "stream": "stdout",
       "text": [
        "10\n",
        "\n"
       ]
      }
     ],
     "prompt_number": 3
    },
    {
     "cell_type": "code",
     "collapsed": false,
     "input": [],
     "language": "python",
     "metadata": {},
     "outputs": []
    }
   ],
   "metadata": {}
  }
 ]
}