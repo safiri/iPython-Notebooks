{
 "metadata": {
  "name": "",
  "signature": "sha256:2668a2a268494bdc325c495708474f3c9434e357ee42ce8816d8c4d67dfd6032"
 },
 "nbformat": 3,
 "nbformat_minor": 0,
 "worksheets": [
  {
   "cells": [
    {
     "cell_type": "code",
     "collapsed": false,
     "input": [
      "print 'Projeto unisal'"
     ],
     "language": "python",
     "metadata": {},
     "outputs": [
      {
       "output_type": "stream",
       "stream": "stdout",
       "text": [
        "Projeto unisal\n"
       ]
      }
     ],
     "prompt_number": 2
    },
    {
     "cell_type": "code",
     "collapsed": false,
     "input": [
      "%install_ext https://raw.github.com/dragly/cppmagic/master/cppmagic.py"
     ],
     "language": "python",
     "metadata": {},
     "outputs": [
      {
       "output_type": "stream",
       "stream": "stdout",
       "text": [
        "Installed cppmagic.py. To use it, type:\n",
        "  %load_ext cppmagic\n"
       ]
      }
     ],
     "prompt_number": 3
    },
    {
     "cell_type": "code",
     "collapsed": false,
     "input": [
      "%load_ext cppmagic"
     ],
     "language": "python",
     "metadata": {},
     "outputs": [],
     "prompt_number": 4
    },
    {
     "cell_type": "code",
     "collapsed": false,
     "input": [
      "%%cpp\n",
      "#include <iostream>\n",
      "using namespace std;\n",
      "\n",
      "class MyClass {\n",
      "public:\n",
      "    int a;\n",
      "    MyClass() {\n",
      "        a = 10;\n",
      "    }\n",
      "};\n",
      "\n",
      "int main() {\n",
      "    MyClass B;\n",
      "    cout << B.a << endl;\n",
      "    return 0;\n",
      "}"
     ],
     "language": "python",
     "metadata": {},
     "outputs": [
      {
       "output_type": "stream",
       "stream": "stdout",
       "text": [
        "10\n",
        "\n"
       ]
      }
     ],
     "prompt_number": 5
    },
    {
     "cell_type": "code",
     "collapsed": false,
     "input": [
      "%%cpp\n",
      "# include <iostream> // Necess\u00e1rio para std::cout e std::endl\n",
      " \n",
      "int main()\n",
      "{  \n",
      "   std::cout << \"Ol\u00e1, Mundo!\" << std::endl;\n",
      "}\n"
     ],
     "language": "python",
     "metadata": {},
     "outputs": [
      {
       "output_type": "stream",
       "stream": "stdout",
       "text": [
        "Ol\u00e1, Mundo!\n",
        "\n"
       ]
      }
     ],
     "prompt_number": 12
    },
    {
     "cell_type": "code",
     "collapsed": false,
     "input": [
      "%%cpp\n"
     ],
     "language": "python",
     "metadata": {},
     "outputs": []
    },
    {
     "cell_type": "code",
     "collapsed": false,
     "input": [],
     "language": "python",
     "metadata": {},
     "outputs": []
    }
   ],
   "metadata": {}
  }
 ]
}